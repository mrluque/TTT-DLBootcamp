{
 "cells": [
  {
   "cell_type": "markdown",
   "id": "c20952ec",
   "metadata": {},
   "source": [
    "# Classification with PyTorch"
   ]
  },
  {
   "cell_type": "markdown",
   "id": "35550c95",
   "metadata": {},
   "source": [
    "In this notebook, we'll be going through the following steps:\n",
    "\n",
    "| <span style=\"font-size:15px\">**Step** | <span style=\"font-size:15px\">**Description** |\n",
    "| :-----| :----- |\n",
    "| <span style=\"font-size:15px\">**1. Data preprocessing** |<span style=\"font-size:14px\"> Prepare your dataset to be processed by the model. |\n",
    "| <span style=\"font-size:15px\">**2. Building a model** |<span style=\"font-size:14px\"> Design an appropriate model architecture that suits your problem domain. | \n",
    "|<span style=\"font-size:15px\"> **3. Fitting the model to data** |<span style=\"font-size:14px\"> Select a loss function, optimizer and build a training loop.|\n",
    "| <span style=\"font-size:15px\">**4. Saving and loading the model** |<span style=\"font-size:14px\"> Save your trained model for inference. |"
   ]
  },
  {
   "cell_type": "markdown",
   "id": "43c9314c",
   "metadata": {},
   "source": [
    "# 0. Getting setup\n",
    "### Importing necessary libraries and modules"
   ]
  },
  {
   "cell_type": "code",
   "execution_count": 1,
   "id": "90e8f45a",
   "metadata": {},
   "outputs": [],
   "source": [
    "# PyTorch framework\n",
    "import torch\n",
    "import torch.nn as nn\n",
    "from torchvision import datasets\n",
    "import torchvision\n",
    "from torch.utils.data import Dataset\n",
    "from torch.utils.data import DataLoader\n",
    "from torchvision import transforms\n",
    "import matplotlib.pyplot as plt\n",
    "\n",
    "# Basic libraries\n",
    "from pathlib import Path\n",
    "from PIL import Image\n",
    "from typing import Tuple, Dict, List\n",
    "import numpy as np\n",
    "import random\n",
    "import pathlib\n",
    "import os\n",
    "import time\n",
    "import copy"
   ]
  },
  {
   "cell_type": "markdown",
   "id": "f0bb53f4",
   "metadata": {},
   "source": [
    "### Set device\n",
    "\n",
    "Setup device-agnostic code for our models and data to run on GPU if it's available."
   ]
  },
  {
   "cell_type": "code",
   "execution_count": 2,
   "id": "886b24f6",
   "metadata": {},
   "outputs": [],
   "source": [
    "DEVICE = \"cuda\" if torch.cuda.is_available() else \"cpu\""
   ]
  },
  {
   "cell_type": "markdown",
   "id": "07a21b45",
   "metadata": {},
   "source": [
    "# 1. Data preprocessing"
   ]
  },
  {
   "cell_type": "markdown",
   "id": "4e2fb91f",
   "metadata": {},
   "source": [
    "In the upcoming steps, we'll be dealing with the Weather_dataset, addressing a multiclass classification task with four categories: 'Cloudy', 'Rain', 'Shine', and 'Sunrise'. To prepare the data, we'll follow the same procedures detailed in section 2, which include defining the required transformations, setting up datasets, and configuring dataloaders."
   ]
  },
  {
   "cell_type": "code",
   "execution_count": 3,
   "id": "54ac8093",
   "metadata": {},
   "outputs": [],
   "source": [
    "# Define the transformation steps using transforms.Compose()\n",
    "data_transforms = {\n",
    "    'train': transforms.Compose([\n",
    "    transforms.Resize((224, 224)), \n",
    "    transforms.RandomHorizontalFlip(p = 0.5),\n",
    "    transforms.RandomAutocontrast(p = 0.2),\n",
    "    transforms.ToTensor(), \n",
    "    transforms.Normalize(mean = [0.485, 0.456, 0.406], \n",
    "                         std = [0.229, 0.224, 0.225]) \n",
    "]),\n",
    "    'val': transforms.Compose([\n",
    "    transforms.Resize((224, 224)), \n",
    "    transforms.ToTensor(), \n",
    "    transforms.Normalize(mean = [0.485, 0.456, 0.406], \n",
    "                         std = [0.229, 0.224, 0.225]) \n",
    "])\n",
    "}"
   ]
  },
  {
   "cell_type": "code",
   "execution_count": 4,
   "id": "d9785a49",
   "metadata": {},
   "outputs": [
    {
     "name": "stdout",
     "output_type": "stream",
     "text": [
      "Dataset Sizes: {'train': 809, 'val': 146}\n",
      "Class Names: ['Cloudy', 'Rain', 'Shine', 'Sunrise']\n"
     ]
    }
   ],
   "source": [
    "# Define the data_dir\n",
    "data_dir = '../datasets/Weather_Dataset_Split'\n",
    "splits = ['train', 'val']\n",
    "\n",
    "# Create the datasets using ImageFolder class\n",
    "image_datasets = {x: datasets.ImageFolder(os.path.join(data_dir, x), data_transforms[x]) for x in splits}\n",
    "dataloaders = {x: torch.utils.data.DataLoader(image_datasets[x], batch_size = 8, shuffle = True) for x in splits}\n",
    "\n",
    "# Calculate the sizes of the different datasets and obtain the class names\n",
    "dataset_sizes = {x: len(image_datasets[x]) for x in splits}\n",
    "class_names = image_datasets['train'].classes\n",
    "\n",
    "# Print the information\n",
    "print(\"Dataset Sizes:\", dataset_sizes)\n",
    "print(\"Class Names:\", class_names)"
   ]
  },
  {
   "cell_type": "markdown",
   "id": "04e66b74",
   "metadata": {},
   "source": [
    "# 2. Building a model"
   ]
  },
  {
   "cell_type": "markdown",
   "id": "c3f1d430",
   "metadata": {},
   "source": [
    "Let’s build a baseline model by subclassing nn.Module"
   ]
  },
  {
   "cell_type": "code",
   "execution_count": 5,
   "id": "f965c1cb",
   "metadata": {},
   "outputs": [],
   "source": [
    "class ClassificationModel(nn.Module):\n",
    "    def __init__(self, output_shape:int):\n",
    "        super().__init__()\n",
    "        self.layer_stack = nn.Sequential(\n",
    "            nn.Flatten(),\n",
    "            nn.Linear(3*224*224, 512),\n",
    "            nn.ReLU(),\n",
    "            nn.Linear(512, 512),\n",
    "            nn.ReLU(),\n",
    "            nn.Linear(512, output_shape),\n",
    "        )\n",
    "\n",
    "    def forward(self, x):\n",
    "        return self.layer_stack(x)"
   ]
  },
  {
   "cell_type": "markdown",
   "id": "6e5f2a7b",
   "metadata": {},
   "source": [
    "Now, create an instance of the created class with 4 outputs:"
   ]
  },
  {
   "cell_type": "code",
   "execution_count": 6,
   "id": "bd1f5774",
   "metadata": {},
   "outputs": [
    {
     "data": {
      "text/plain": [
       "ClassificationModel(\n",
       "  (layer_stack): Sequential(\n",
       "    (0): Flatten(start_dim=1, end_dim=-1)\n",
       "    (1): Linear(in_features=150528, out_features=512, bias=True)\n",
       "    (2): ReLU()\n",
       "    (3): Linear(in_features=512, out_features=512, bias=True)\n",
       "    (4): ReLU()\n",
       "    (5): Linear(in_features=512, out_features=4, bias=True)\n",
       "  )\n",
       ")"
      ]
     },
     "execution_count": 6,
     "metadata": {},
     "output_type": "execute_result"
    }
   ],
   "source": [
    "model = ClassificationModel(output_shape = 4)\n",
    "model.to(DEVICE)"
   ]
  },
  {
   "cell_type": "markdown",
   "id": "dddb8c8e",
   "metadata": {},
   "source": [
    "# 3. Fitting the model to data"
   ]
  },
  {
   "cell_type": "markdown",
   "id": "02a701f1",
   "metadata": {},
   "source": [
    "## 3.1 Build a training loop"
   ]
  },
  {
   "cell_type": "code",
   "execution_count": 7,
   "id": "58730ab3",
   "metadata": {},
   "outputs": [],
   "source": [
    "def train_model(model, criterion, optimizer,model_path, num_epochs = 20):\n",
    "\n",
    "    since = time.time()\n",
    "    best_acc = 0.0\n",
    "    \n",
    "    # Create empty results dictionary\n",
    "    results = {\n",
    "        \"train_loss\": [],\n",
    "        \"train_acc\": [],\n",
    "        \"val_loss\": [],\n",
    "        \"val_acc\": []\n",
    "    }\n",
    "\n",
    "    for epoch in range(num_epochs):\n",
    "        print(f'Epoch {epoch}/{num_epochs - 1}')\n",
    "        print('-' * 10)\n",
    "\n",
    "        # Each epoch has a training and validation phase\n",
    "        for phase in ['train', 'val']:\n",
    "            if phase == 'train':\n",
    "                model.train()  # Set model to training mode\n",
    "            else:\n",
    "                model.eval()   # Set model to evaluate mode\n",
    "\n",
    "            running_loss = 0.0\n",
    "            running_corrects = 0\n",
    "\n",
    "            # Iterate over data.\n",
    "            for inputs, labels in dataloaders[phase]:\n",
    "                inputs = inputs.to(DEVICE)\n",
    "                labels = labels.to(DEVICE)\n",
    "\n",
    "                # zero the parameter gradients\n",
    "                optimizer.zero_grad()\n",
    "\n",
    "                # forward\n",
    "                # track history if only in train\n",
    "                with torch.set_grad_enabled(phase == 'train'):\n",
    "                    outputs = model(inputs)\n",
    "                    _, preds = torch.max(outputs, 1)\n",
    "                    loss = criterion(outputs, labels)\n",
    "                    \n",
    "                    # backward + optimize only if in training phase\n",
    "                    if phase == 'train':\n",
    "                        loss.backward()\n",
    "                        optimizer.step()\n",
    "\n",
    "                # statistics\n",
    "                running_loss += loss.item() * inputs.size(0)\n",
    "                running_corrects += torch.sum(preds == labels.data)\n",
    "\n",
    "            epoch_loss = running_loss / dataset_sizes[phase]\n",
    "            epoch_acc = running_corrects.double() / dataset_sizes[phase]\n",
    "            \n",
    "            # Update results dictionary\n",
    "            if phase == 'train':\n",
    "                results[\"train_loss\"].append(epoch_loss)\n",
    "                results[\"train_acc\"].append(epoch_acc)\n",
    "            \n",
    "            elif phase == 'val':\n",
    "                results[\"val_loss\"].append(epoch_loss)\n",
    "                results[\"val_acc\"].append(epoch_acc)\n",
    "\n",
    "            print(f'{phase} Loss: {epoch_loss:.4f} Acc: {epoch_acc:.4f}')\n",
    "\n",
    "            # deep copy the model\n",
    "            if phase == 'val' and epoch_acc > best_acc:\n",
    "                best_acc = epoch_acc\n",
    "                torch.save(model.state_dict(), os.path.join(model_path))\n",
    "                print('Model saved!')\n",
    "        print()\n",
    "\n",
    "    time_elapsed = time.time() - since\n",
    "    print(f'Training complete in {time_elapsed // 60:.0f}m {time_elapsed % 60:.0f}s')\n",
    "    print(f'Best val Acc: {best_acc:4f}')\n",
    "    \n",
    "    # Return the filled results at the end of the epochs\n",
    "    return results"
   ]
  },
  {
   "cell_type": "markdown",
   "id": "e7f9b6ad",
   "metadata": {},
   "source": [
    "## 3.2 Define the loss function and configure the optimizer"
   ]
  },
  {
   "cell_type": "code",
   "execution_count": 8,
   "id": "76026771",
   "metadata": {},
   "outputs": [],
   "source": [
    "criterion = nn.CrossEntropyLoss()\n",
    "optimizer = torch.optim.SGD(params = model.parameters(), lr = 0.001)"
   ]
  },
  {
   "cell_type": "markdown",
   "id": "019a1cc1",
   "metadata": {},
   "source": [
    "## 3.3 Train the model "
   ]
  },
  {
   "cell_type": "markdown",
   "id": "94c8251b",
   "metadata": {},
   "source": [
    "To keep our experiments quick, we'll train our model for 5 epochs (though you could increase this if you want)."
   ]
  },
  {
   "cell_type": "code",
   "execution_count": 9,
   "id": "52c3e690",
   "metadata": {
    "scrolled": true
   },
   "outputs": [
    {
     "name": "stdout",
     "output_type": "stream",
     "text": [
      "Epoch 0/4\n",
      "----------\n",
      "train Loss: 0.7781 Acc: 0.6873\n",
      "val Loss: 0.4971 Acc: 0.8151\n",
      "Model saved!\n",
      "\n",
      "Epoch 1/4\n",
      "----------\n",
      "train Loss: 0.5759 Acc: 0.7849\n",
      "val Loss: 0.4370 Acc: 0.8562\n",
      "Model saved!\n",
      "\n",
      "Epoch 2/4\n",
      "----------\n",
      "train Loss: 0.5000 Acc: 0.8220\n",
      "val Loss: 0.4166 Acc: 0.8356\n",
      "\n",
      "Epoch 3/4\n",
      "----------\n",
      "train Loss: 0.4358 Acc: 0.8381\n",
      "val Loss: 0.3605 Acc: 0.8699\n",
      "Model saved!\n",
      "\n",
      "Epoch 4/4\n",
      "----------\n",
      "train Loss: 0.4072 Acc: 0.8492\n",
      "val Loss: 0.3602 Acc: 0.8836\n",
      "Model saved!\n",
      "\n",
      "Training complete in 3m 32s\n",
      "Best val Acc: 0.883562\n"
     ]
    }
   ],
   "source": [
    "MODEL_PATH = '../data/models/baseline_model_WeatherDataset.pth'\n",
    "model_results = train_model(model, criterion, optimizer, MODEL_PATH, num_epochs = 5)"
   ]
  },
  {
   "cell_type": "markdown",
   "id": "4f22e7bc",
   "metadata": {},
   "source": [
    "## 3.4  Plot loss and accuracy evolution over time"
   ]
  },
  {
   "cell_type": "code",
   "execution_count": 10,
   "id": "ffa6882d",
   "metadata": {},
   "outputs": [],
   "source": [
    "def plot_curves(results: Dict[str, List[float]]):\n",
    "    \n",
    "    \"\"\"Plots training curves of a results dictionary.\n",
    "\n",
    "    Args:\n",
    "        results (dict): dictionary containing list of values, e.g.\n",
    "            {\"train_loss\": [...],\n",
    "             \"train_acc\": [...],\n",
    "             \"val_loss\": [...],\n",
    "             \"val_acc\": [...]}\n",
    "    \"\"\"\n",
    "    \n",
    "    # Get the loss values of the results dictionary (training and validation)\n",
    "    loss = results['train_loss']\n",
    "    val_loss = results['val_loss']\n",
    "\n",
    "    # Get the accuracy values of the results dictionary (training and validation)\n",
    "    accuracy = results['train_acc']\n",
    "    val_accuracy = results['val_acc']\n",
    "    \n",
    "    # Convert tensors to CPU before plotting\n",
    "    accuracy = [x.item() for x in accuracy]\n",
    "    val_accuracy = [x.item() for x in val_accuracy]\n",
    "\n",
    "    # Figure out how many epochs there were\n",
    "    epochs = range(len(results['train_loss']))\n",
    "\n",
    "    # Setup a plot \n",
    "    plt.figure(figsize=(15, 7))\n",
    "\n",
    "    # Plot loss\n",
    "    plt.subplot(1, 2, 1)\n",
    "    plt.plot(epochs, loss, label = 'train_loss')\n",
    "    plt.plot(epochs, val_loss, label = 'val_loss')\n",
    "    plt.title('Loss')\n",
    "    plt.xlabel('Epochs')\n",
    "    plt.legend()\n",
    "\n",
    "    # Plot accuracy\n",
    "    plt.subplot(1, 2, 2)\n",
    "    plt.plot(epochs, accuracy, label = 'train_accuracy')\n",
    "    plt.plot(epochs, val_accuracy, label = 'val_accuracy')\n",
    "    plt.title('Accuracy')\n",
    "    plt.xlabel('Epochs')\n",
    "    plt.legend();"
   ]
  },
  {
   "cell_type": "code",
   "execution_count": 11,
   "id": "e587fdf0",
   "metadata": {},
   "outputs": [
    {
     "data": {
      "image/png": "[encoded data removed]",
      "text/plain": [
       "<Figure size 1500x700 with 2 Axes>"
      ]
     },
     "metadata": {},
     "output_type": "display_data"
    }
   ],
   "source": [
    "plot_curves(model_results)"
   ]
  },
  {
   "cell_type": "markdown",
   "id": "f9ab5118",
   "metadata": {},
   "source": [
    "To achieve better results, consider increasing the number of iterations during model training."
   ]
  },
  {
   "cell_type": "markdown",
   "id": "eaef0c90",
   "metadata": {},
   "source": [
    "# 4. Saving and loading the model"
   ]
  },
  {
   "cell_type": "markdown",
   "id": "0d4e59de",
   "metadata": {},
   "source": [
    "During training, we preserved the model exhibiting the finest results on the validation dataset using:\n",
    "\n",
    "`torch.save(model.state_dict(), os.path.join(path))`\n",
    "\n",
    "Now, let's see how to initializes a ClassificationModel with an output shape of 4  and then load the trained weights. "
   ]
  },
  {
   "cell_type": "code",
   "execution_count": 12,
   "id": "90393d09",
   "metadata": {},
   "outputs": [
    {
     "data": {
      "text/plain": [
       "<All keys matched successfully>"
      ]
     },
     "execution_count": 12,
     "metadata": {},
     "output_type": "execute_result"
    }
   ],
   "source": [
    "# Create a model  with the architecture specified by ClassificationModel class\n",
    "model = ClassificationModel(output_shape = 4)\n",
    "model.to(DEVICE)\n",
    "\n",
    "# Update the model's parameters with the trained weights stored in MODEL_PATH\n",
    "MODEL_PATH = '../data/models/baseline_model_WeatherDataset.pth'\n",
    "model.load_state_dict(torch.load(MODEL_PATH, map_location = DEVICE))"
   ]
  },
  {
   "cell_type": "markdown",
   "id": "153455f9",
   "metadata": {},
   "source": [
    "We can use the model for inference or to compute metrics\n",
    "> Currently, we have completed the model training, but its ability to generalize the learned knowledge remains unkown. To assess its performance, in notebook **\"04_evaluation_methods\"**, we will examine examples of inference on the test dataset and obtain metrics that determine how well the model performs on unseen data. "
   ]
  },
  {
   "cell_type": "markdown",
   "id": "d22171f0",
   "metadata": {},
   "source": [
    "# EXERCISE"
   ]
  },
  {
   "cell_type": "markdown",
   "id": "56831b68",
   "metadata": {},
   "source": [
    "Train a neural network capable of differentiating between cars, airplanes, and ships using the Transport_dataset. Follow the steps below:\n",
    "\n",
    "- **1. Prepare the train_dataset**: Begin by defining the data transform and creating the train_dataset along with the train_dataloader. For this dataset, we won't define a \"valid subset.\"\n",
    "\n",
    "- **2. Build the model**: You can utilize the same architecture as defined in the ClassificationModel. Keep in mind that the output shape of the model must match the number of classes. \n",
    "\n",
    "- **3. Set up the train loop**: Since we only have a train_dataset, you can refer to the code provided on slide 17 of the pdf \"Model_building_and_training_loop.\" Remember to define a loss function and an optimizer. (You don't need to plot the evolution of the loss and accuracy during training) \n",
    "\n",
    "- **4. Save your model**: Once the model is trained, save its trained weights in a .pth file.\""
   ]
  },
  {
   "cell_type": "code",
   "execution_count": null,
   "id": "cd4094b0",
   "metadata": {},
   "outputs": [],
   "source": []
  }
 ],
 "metadata": {
  "kernelspec": {
   "display_name": "Python 3 (ipykernel)",
   "language": "python",
   "name": "python3"
  },
  "language_info": {
   "codemirror_mode": {
    "name": "ipython",
    "version": 3
   },
   "file_extension": ".py",
   "mimetype": "text/x-python",
   "name": "python",
   "nbconvert_exporter": "python",
   "pygments_lexer": "ipython3",
   "version": "3.10.10"
  }
 },
 "nbformat": 4,
 "nbformat_minor": 5
}
