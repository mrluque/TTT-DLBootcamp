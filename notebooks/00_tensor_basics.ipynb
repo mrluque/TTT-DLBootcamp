{
 "cells": [
  {
   "attachments": {},
   "cell_type": "markdown",
   "id": "73462431",
   "metadata": {},
   "source": [
    "# Tensor Basics: Examples and exercises\n",
    "This section covers:\n",
    "* Creating tensors (from scratch and from previous data)\n",
    "* Accessing tensor properties\n",
    "* Basic operations with tensors\n",
    "* Manipulating tensor shapes\n",
    "* Moving tensors from CPU to GPU and vice versa"
   ]
  },
  {
   "cell_type": "code",
   "execution_count": 1,
   "id": "4fa19ee0",
   "metadata": {},
   "outputs": [],
   "source": [
    "# import libraries\n",
    "import torch\n",
    "import numpy as np"
   ]
  },
  {
   "attachments": {},
   "cell_type": "markdown",
   "id": "11b13877",
   "metadata": {},
   "source": [
    "# 1. Creating Tensors"
   ]
  },
  {
   "cell_type": "code",
   "execution_count": 3,
   "id": "3e9e3ed4",
   "metadata": {},
   "outputs": [
    {
     "name": "stdout",
     "output_type": "stream",
     "text": [
      "Tensor from data:\n",
      " tensor([1, 4, 6, 8])\n",
      "\n",
      "Tensor from NumPy array:\n",
      " tensor([[1, 2, 3],\n",
      "        [4, 5, 6]], dtype=torch.int32)\n",
      "\n",
      "NumPy array from Tensor:\n",
      " [[ 7  8  9]\n",
      " [10 11 12]]\n",
      "\n",
      "Tensor filled with zeros:\n",
      " tensor([[0., 0.],\n",
      "        [0., 0.]], dtype=torch.float64)\n"
     ]
    }
   ],
   "source": [
    "# Tensor from list\n",
    "my_list = [1, 4, 6, 8]\n",
    "tensor_from_list = torch.tensor(my_list)\n",
    "print(\"Tensor from data:\\n\", tensor_from_list)\n",
    "\n",
    "# Tensor from NumPy array\n",
    "numpy_array = np.array([[1, 2, 3], [4, 5, 6]])\n",
    "tensor_from_numpy = torch.from_numpy(numpy_array) # tensor_from_numpy = torch.tensor(numpy_array)\n",
    "print(\"\\nTensor from NumPy array:\\n\", tensor_from_numpy)\n",
    "\n",
    "# NumPy array from tensor\n",
    "my_tensor = torch.tensor([[7, 8, 9], [10, 11, 12]])\n",
    "numpy_from_tensor = my_tensor.numpy()\n",
    "print(\"\\nNumPy array from Tensor:\\n\", numpy_from_tensor)\n",
    "\n",
    "# Tensor filled with zeros with specific shape and data type\n",
    "shape = (2,2)\n",
    "dtype = torch.float64\n",
    "tensor_with_shape_and_dtype = torch.zeros(shape, dtype = dtype)\n",
    "print(\"\\nTensor filled with zeros:\\n\", tensor_with_shape_and_dtype)"
   ]
  },
  {
   "attachments": {},
   "cell_type": "markdown",
   "id": "c50fd899",
   "metadata": {},
   "source": [
    "<h2 align=\"center\"><a href='https://pytorch.org/docs/stable/tensors.html'>Tensor Datatypes</a></h2>\n",
    "<table align=\"center\">\n",
    "<tr><th>TYPE</th><th>NAME</th><th>EQUIVALENT</th><th>TENSOR TYPE</th></tr>\n",
    "<tr><td>32-bit integer (signed)</td><td>torch.int32</td><td>torch.int</td><td>IntTensor</td></tr>\n",
    "<tr><td>64-bit integer (signed)</td><td>torch.int64</td><td>torch.long</td><td>LongTensor</td></tr>\n",
    "<tr><td>16-bit integer (signed)</td><td>torch.int16</td><td>torch.short</td><td>ShortTensor</td></tr>\n",
    "<tr><td>32-bit floating point</td><td>torch.float32</td><td>torch.float</td><td>FloatTensor</td></tr>\n",
    "<tr><td>64-bit floating point</td><td>torch.float64</td><td>torch.double</td><td>DoubleTensor</td></tr>\n",
    "<tr><td>16-bit floating point</td><td>torch.float16</td><td>torch.half</td><td>HalfTensor</td></tr>\n",
    "<tr><td>8-bit integer (signed)</td><td>torch.int8</td><td></td><td>CharTensor</td></tr>\n",
    "<tr><td>8-bit integer (unsigned)</td><td>torch.uint8</td><td></td><td>ByteTensor</td></tr></table>"
   ]
  },
  {
   "attachments": {},
   "cell_type": "markdown",
   "id": "89d8c010",
   "metadata": {},
   "source": [
    "## Reproducibility\n",
    "While randomness can be powerful, there are instances when having less randomness is preferable. The reason behind this is to enable the replication of experiments. This becomes especially important when, for instance, you design an algorithm that achieves a certain level of performance, and you want your colleague to test it out to confirm its validity.\n",
    "\n",
    "But how can they do this? This is where reproducibility becomes essential. In essence, reproducibility refers to the ability to obtain similar or identical results on different computers running the same code.\n",
    "\n",
    "To illustrate reproducibility in PyTorch, let's consider a brief example. We begin by generating two random tensors. Since they are created randomly, it is expected that they would differ from each other."
   ]
  },
  {
   "cell_type": "code",
   "execution_count": 4,
   "id": "4b610a6d",
   "metadata": {},
   "outputs": [
    {
     "name": "stdout",
     "output_type": "stream",
     "text": [
      "Tensor A:\n",
      "tensor([[0.1025, 0.6321, 0.8880, 0.7968],\n",
      "        [0.6356, 0.3658, 0.6410, 0.5889],\n",
      "        [0.2237, 0.6439, 0.4582, 0.1804]])\n",
      "\n",
      "Tensor B:\n",
      "tensor([[0.4570, 0.5917, 0.2936, 0.6991],\n",
      "        [0.4074, 0.1554, 0.4737, 0.0532],\n",
      "        [0.2042, 0.1962, 0.0119, 0.8157]])\n",
      "\n",
      "Does Tensor A equal Tensor B?\n"
     ]
    },
    {
     "data": {
      "text/plain": [
       "tensor([[False, False, False, False],\n",
       "        [False, False, False, False],\n",
       "        [False, False, False, False]])"
      ]
     },
     "execution_count": 4,
     "metadata": {},
     "output_type": "execute_result"
    }
   ],
   "source": [
    "# Create two random tensors\n",
    "random_tensor_A = torch.rand(3, 4)\n",
    "random_tensor_B = torch.rand(3, 4)\n",
    "\n",
    "print(f\"Tensor A:\\n{random_tensor_A}\\n\")\n",
    "print(f\"Tensor B:\\n{random_tensor_B}\\n\")\n",
    "print(f\"Does Tensor A equal Tensor B?\")\n",
    "random_tensor_A == random_tensor_B"
   ]
  },
  {
   "attachments": {},
   "cell_type": "markdown",
   "id": "68a74cdf",
   "metadata": {},
   "source": [
    "Just as you might've expected, the tensors come out with different values. But what if you wanted to create two random tensors with the same values?\n",
    "That's where [`torch.manual_seed(seed)`](https://pytorch.org/docs/stable/generated/torch.manual_seed.html) comes in, where `seed` is an integer (like `42` but it could be anything)."
   ]
  },
  {
   "cell_type": "code",
   "execution_count": 5,
   "id": "0d00228c",
   "metadata": {},
   "outputs": [
    {
     "name": "stdout",
     "output_type": "stream",
     "text": [
      "Tensor C:\n",
      "tensor([[0.8823, 0.9150, 0.3829, 0.9593],\n",
      "        [0.3904, 0.6009, 0.2566, 0.7936],\n",
      "        [0.9408, 0.1332, 0.9346, 0.5936]])\n",
      "\n",
      "Tensor D:\n",
      "tensor([[0.8823, 0.9150, 0.3829, 0.9593],\n",
      "        [0.3904, 0.6009, 0.2566, 0.7936],\n",
      "        [0.9408, 0.1332, 0.9346, 0.5936]])\n",
      "\n",
      "Does Tensor C equal Tensor D?\n"
     ]
    },
    {
     "data": {
      "text/plain": [
       "tensor([[True, True, True, True],\n",
       "        [True, True, True, True],\n",
       "        [True, True, True, True]])"
      ]
     },
     "execution_count": 5,
     "metadata": {},
     "output_type": "execute_result"
    }
   ],
   "source": [
    "# Set the random seed\n",
    "RANDOM_SEED = 42 # try changing this to different values and see what happens to the numbers below\n",
    "torch.manual_seed(seed = RANDOM_SEED) \n",
    "random_tensor_C = torch.rand(3, 4)\n",
    "\n",
    "# Have to reset the seed every time a new rand() is called \n",
    "# Without this, tensor_D would be different to tensor_C \n",
    "torch.random.manual_seed(seed = RANDOM_SEED) # try commenting this line out and seeing what happens\n",
    "random_tensor_D = torch.rand(3, 4)\n",
    "\n",
    "print(f\"Tensor C:\\n{random_tensor_C}\\n\")\n",
    "print(f\"Tensor D:\\n{random_tensor_D}\\n\")\n",
    "print(f\"Does Tensor C equal Tensor D?\")\n",
    "random_tensor_C == random_tensor_D"
   ]
  },
  {
   "attachments": {},
   "cell_type": "markdown",
   "id": "0ef9b0d3",
   "metadata": {},
   "source": [
    "> **Resource:**  If you need additional information about reproducbility and random seeds, check out:\n",
    "> * [The PyTorch reproducibility documentation](https://pytorch.org/docs/stable/notes/randomness.html)"
   ]
  },
  {
   "attachments": {},
   "cell_type": "markdown",
   "id": "08a39a0f",
   "metadata": {},
   "source": [
    "### Exercise 1: Create a tensor with values ranging from 1 to 10 (inclusive) and print it. Hint: Use [torch.arange()](https://pytorch.org/docs/stable/generated/torch.arange.html)"
   ]
  },
  {
   "cell_type": "code",
   "execution_count": 4,
   "id": "f8457f3e",
   "metadata": {},
   "outputs": [
    {
     "name": "stdout",
     "output_type": "stream",
     "text": [
      "Exercise 1 solution:\n",
      " tensor([ 1,  2,  3,  4,  5,  6,  7,  8,  9, 10])\n"
     ]
    }
   ],
   "source": [
    "# Wite your code here"
   ]
  },
  {
   "attachments": {},
   "cell_type": "markdown",
   "id": "a66757c0",
   "metadata": {},
   "source": [
    "### Exercise 2: Returns a 2-D tensor of size (3,3) with ones on the diagonal and zeros elsewhere. Hint: Use [torch.eye()](https://pytorch.org/docs/stable/generated/torch.eye.html)"
   ]
  },
  {
   "cell_type": "code",
   "execution_count": 9,
   "id": "93eb12f1",
   "metadata": {},
   "outputs": [
    {
     "name": "stdout",
     "output_type": "stream",
     "text": [
      "\n",
      "Exercise 2 solution:\n",
      " tensor([[1., 0., 0.],\n",
      "        [0., 1., 0.],\n",
      "        [0., 0., 1.]])\n"
     ]
    }
   ],
   "source": [
    "# Wite your code here"
   ]
  },
  {
   "attachments": {},
   "cell_type": "markdown",
   "id": "8127cc63",
   "metadata": {},
   "source": [
    "# 2. Accessing Tensor Properties"
   ]
  },
  {
   "cell_type": "code",
   "execution_count": 6,
   "id": "854fcdcd",
   "metadata": {},
   "outputs": [
    {
     "name": "stdout",
     "output_type": "stream",
     "text": [
      "Data type: torch.int64\n",
      "Shape: torch.Size([2, 3])\n",
      "Stride: (3, 1)\n",
      "Number of dimensions: 2\n",
      "Number of elements: 6\n",
      "Requires gradient? False\n",
      "Device: cpu\n",
      "Requires grad computation: False\n"
     ]
    }
   ],
   "source": [
    "# Create a sample tensor\n",
    "tensor = torch.tensor([[1, 2, 3], [4, 5, 6]])\n",
    "\n",
    "# Print some interesting attribute of the tensor\n",
    "print(\"Data type:\", tensor.dtype)\n",
    "print(\"Shape:\", tensor.shape)\n",
    "print(\"Stride:\", tensor.stride())\n",
    "print(\"Number of dimensions:\", tensor.dim())\n",
    "print(\"Number of elements:\", tensor.numel())\n",
    "print(\"Requires gradient?\", tensor.requires_grad)\n",
    "print(\"Device:\", tensor.device)\n",
    "print(\"Requires grad computation:\", tensor.requires_grad)"
   ]
  },
  {
   "attachments": {},
   "cell_type": "markdown",
   "id": "d833a0e4",
   "metadata": {},
   "source": [
    "\n",
    "<h3 align=\"center\">Classification of tensors by their dimensions</h3>\n",
    "\n",
    "| Name | What is it? | Number of dimensions \n",
    "| ----- | ----- | ----- | \n",
    "| **scalar** | a single number | 0 \n",
    "| **vector** | a 1-dimensional array of numbers | 1 |\n",
    "| **matrix** | a 2-dimensional array of numbers | 2 \n",
    "| **tensor** | an n-dimensional array of numbers | can be any number from 0"
   ]
  },
  {
   "attachments": {},
   "cell_type": "markdown",
   "id": "59047c42",
   "metadata": {},
   "source": [
    "# 3.  Operations with tensors"
   ]
  },
  {
   "cell_type": "code",
   "execution_count": 7,
   "id": "2d75ac60",
   "metadata": {},
   "outputs": [
    {
     "name": "stdout",
     "output_type": "stream",
     "text": [
      "Element-wise addition:\n",
      " tensor([5, 7, 9])\n",
      "\n",
      "Scalar multiplication:\n",
      " tensor([2, 4, 6])\n",
      "\n",
      "Matrix multiplication:\n",
      " tensor([[19, 22],\n",
      "        [43, 50]])\n",
      "\n",
      "Gradient of y with respect to x: tensor(7.)\n"
     ]
    }
   ],
   "source": [
    "# Element-wise addition\n",
    "tensor1 = torch.tensor([1, 2, 3])\n",
    "tensor2 = torch.tensor([4, 5, 6])\n",
    "tensor_sum = tensor1 + tensor2\n",
    "print(\"Element-wise addition:\\n\", tensor_sum)\n",
    "\n",
    "# Scalar multiplication\n",
    "scalar = 2\n",
    "tensor_scaled = tensor1 * scalar\n",
    "print(\"\\nScalar multiplication:\\n\", tensor_scaled)\n",
    "\n",
    "# Matrix multiplication\n",
    "matrix1 = torch.tensor([[1, 2], [3, 4]])\n",
    "matrix2 = torch.tensor([[5, 6], [7, 8]])\n",
    "matrix_product = torch.matmul(matrix1, matrix2)\n",
    "print(\"\\nMatrix multiplication:\\n\", matrix_product)\n",
    "\n",
    "# Automatic Differentiation\n",
    "x = torch.tensor(2.0, requires_grad = True)\n",
    "y = x**2 + 3*x + 1\n",
    "y.backward() \n",
    "print(\"\\nGradient of y with respect to x:\", x.grad)\n",
    "\n",
    "# y.backward: It calculates the gradients of y with respect to all the tensors that have requires_grad = True. \n",
    "# In this case, it computes the gradient of y with respect to x."
   ]
  },
  {
   "attachments": {},
   "cell_type": "markdown",
   "id": "87ca38e6",
   "metadata": {},
   "source": [
    "### Exercise 3: Normalizing a PyTorch Tensor: [mean()](https://pytorch.org/docs/stable/generated/torch.mean.html#torch.mean) and [std()](https://pytorch.org/docs/stable/generated/torch.std.html#torch.std) functions"
   ]
  },
  {
   "cell_type": "code",
   "execution_count": null,
   "id": "36010e2b",
   "metadata": {},
   "outputs": [],
   "source": [
    "# Given this tensor:\n",
    "x = torch.tensor([1.0, 2.0, 3.0, 4.0, 5.0])\n",
    "\n",
    "# Compute the mean and standard deviation: Hint: use mean() and std() functions\n",
    "mean = # Fill this\n",
    "std =  # Fill this\n",
    "\n",
    "# Normalize the tensor by subtracting the mean and dividing by the standard deviation\n",
    "normalized_x = # Fill this\n",
    "\n",
    "# Print the normalized tensor\n",
    "# Fill this"
   ]
  },
  {
   "attachments": {},
   "cell_type": "markdown",
   "id": "156f93ef",
   "metadata": {},
   "source": [
    "### Exercise 4: Concatenate tensors using [cat()](https://pytorch.org/docs/stable/generated/torch.cat.html) function"
   ]
  },
  {
   "cell_type": "code",
   "execution_count": null,
   "id": "f7901c97",
   "metadata": {},
   "outputs": [],
   "source": [
    "# Create two input tensors of size (2, 3) with your desired values.\n",
    "x = # Fill\n",
    "y = # Fill\n",
    "\n",
    "# Concatenate tensors along the rows (dimension 0)\n",
    "# Fill\n",
    "\n",
    "# Print the concatenated tensor\n",
    "# Fill"
   ]
  },
  {
   "attachments": {},
   "cell_type": "markdown",
   "id": "c5ee4366",
   "metadata": {},
   "source": [
    "### Exercise 5: Compute the sum of all elements in a tensor using [sum()](https://pytorch.org/docs/stable/generated/torch.sum.html) function"
   ]
  },
  {
   "cell_type": "code",
   "execution_count": null,
   "id": "92a468b3",
   "metadata": {},
   "outputs": [],
   "source": [
    "# Create a tensor with dimensions (2, 2, 2) filled with random values\n",
    "# Fill\n",
    "\n",
    "# Compute the sum of all elements\n",
    "# Fill\n",
    "\n",
    "# Print the result\n",
    "# Fill"
   ]
  },
  {
   "attachments": {},
   "cell_type": "markdown",
   "id": "779ee915",
   "metadata": {},
   "source": [
    "## 4. Manipulating tensor shapes"
   ]
  },
  {
   "attachments": {},
   "cell_type": "markdown",
   "id": "20b0d500",
   "metadata": {},
   "source": [
    "Often times we'll want to reshape or change the dimensions of our tensors without actually changing the values inside them.\n",
    "\n",
    "To do so, some popular methods are:\n",
    "\n",
    "| Method | One-line description |\n",
    "| ----- | ----- |\n",
    "| [`torch.reshape(input, shape)`](https://pytorch.org/docs/stable/generated/torch.reshape.html#torch.reshape) | Reshapes `input` to `shape` (if compatible). |\n",
    "| [`torch.Tensor.view(shape)`](https://pytorch.org/docs/stable/generated/torch.Tensor.view.html) | Returns a view of the original tensor in a different `shape` but shares the same data as the original tensor. |\n",
    "| [`torch.stack(tensors, dim=0)`](https://pytorch.org/docs/1.9.1/generated/torch.stack.html) | Concatenates a sequence of `tensors` along a new dimension (`dim`), all `tensors` must be same size. |\n",
    "| [`torch.squeeze(input)`](https://pytorch.org/docs/stable/generated/torch.squeeze.html) | Squeezes `input` to remove all the dimenions with value `1`. |\n",
    "| [`torch.unsqueeze(input, dim)`](https://pytorch.org/docs/1.9.1/generated/torch.unsqueeze.html) | Returns `input` with a dimension value of `1` added at `dim`. | \n",
    "| [`torch.permute(input, dims)`](https://pytorch.org/docs/stable/generated/torch.permute.html) | Returns a *view* of the original `input` with its dimensions permuted (rearranged) to `dims`. | "
   ]
  },
  {
   "attachments": {},
   "cell_type": "markdown",
   "id": "9efd9985",
   "metadata": {},
   "source": [
    "### Example 1: Reshaping using [view()](https://pytorch.org/docs/stable/generated/torch.Tensor.view.html)"
   ]
  },
  {
   "cell_type": "code",
   "execution_count": 9,
   "id": "45a2366a",
   "metadata": {},
   "outputs": [
    {
     "name": "stdout",
     "output_type": "stream",
     "text": [
      "Original Tensor:\n",
      "tensor([ 0,  1,  2,  3,  4,  5,  6,  7,  8,  9, 10, 11, 12, 13, 14, 15, 16, 17,\n",
      "        18, 19, 20, 21, 22, 23])\n",
      "\n",
      "Reshaped Tensor using view():\n",
      "tensor([[[ 0,  1,  2,  3],\n",
      "         [ 4,  5,  6,  7],\n",
      "         [ 8,  9, 10, 11]],\n",
      "\n",
      "        [[12, 13, 14, 15],\n",
      "         [16, 17, 18, 19],\n",
      "         [20, 21, 22, 23]]])\n",
      "\n",
      "Reshaped Tensor using view():\n",
      "tensor([[ 0,  1,  2,  3],\n",
      "        [ 4,  5,  6,  7],\n",
      "        [ 8,  9, 10, 11],\n",
      "        [12, 13, 14, 15],\n",
      "        [16, 17, 18, 19],\n",
      "        [20, 21, 22, 23]])\n",
      "\n"
     ]
    }
   ],
   "source": [
    "# Create a tensor with values from 0 to 23\n",
    "tensor = torch.arange(24)\n",
    "print(\"Original Tensor:\")\n",
    "print(tensor)\n",
    "\n",
    "# Reshape to dimensions (2, 3, 4)\n",
    "print(\"\\nReshaped Tensor using view():\")\n",
    "reshaped_tensor = tensor.view(2, 3, 4)\n",
    "print(reshaped_tensor)\n",
    "\n",
    "# Reshape to dimensions (6, 4)\n",
    "print(\"\\nReshaped Tensor using view():\")\n",
    "reshaped_tensor = tensor.view(6, 4) \n",
    "print(reshaped_tensor)\n",
    "print()"
   ]
  },
  {
   "attachments": {},
   "cell_type": "markdown",
   "id": "37d9a5f2",
   "metadata": {},
   "source": [
    "### Example 2: Reshaping using [squeeze()](https://pytorch.org/docs/stable/generated/torch.squeeze.html)"
   ]
  },
  {
   "attachments": {},
   "cell_type": "markdown",
   "id": "b7e7013b",
   "metadata": {},
   "source": [
    "torch.squeeze() returns a tensor with all specified dimensions of input of size 1 removed.To do the reverse of torch.squeeze() you can use torch.unsqueeze() to add a dimension value of 1 at a specific index."
   ]
  },
  {
   "cell_type": "code",
   "execution_count": 10,
   "id": "63d50fb4",
   "metadata": {},
   "outputs": [
    {
     "name": "stdout",
     "output_type": "stream",
     "text": [
      "Original Tensor:\n",
      "tensor([[[0.8694, 0.5677, 0.7411, 0.4294, 0.8854]],\n",
      "\n",
      "        [[0.5739, 0.2666, 0.6274, 0.2696, 0.4414]],\n",
      "\n",
      "        [[0.2969, 0.8317, 0.1053, 0.2695, 0.3588]]])\n",
      "\n",
      "Original Tensor Shape: torch.Size([3, 1, 5])\n",
      "\n",
      "----------------------SQUEEZE------------------------\n",
      "Reshaped Tensor using squeeze():\n",
      "tensor([[0.8694, 0.5677, 0.7411, 0.4294, 0.8854],\n",
      "        [0.5739, 0.2666, 0.6274, 0.2696, 0.4414],\n",
      "        [0.2969, 0.8317, 0.1053, 0.2695, 0.3588]])\n",
      "\n",
      "Reshaped Tensor Shape: torch.Size([3, 5])\n",
      "\n",
      "----------------------UNSQUEEZE----------------------\n",
      "Recovered Tensor using unsqueeze():\n",
      "tensor([[[0.8694, 0.5677, 0.7411, 0.4294, 0.8854]],\n",
      "\n",
      "        [[0.5739, 0.2666, 0.6274, 0.2696, 0.4414]],\n",
      "\n",
      "        [[0.2969, 0.8317, 0.1053, 0.2695, 0.3588]]])\n",
      "\n",
      "Recovered Tensor Shape: torch.Size([3, 1, 5])\n"
     ]
    }
   ],
   "source": [
    "# Create a tensor with dimensions (3, 1, 5)\n",
    "tensor = torch.rand(3, 1, 5)\n",
    "print(\"Original Tensor:\")\n",
    "print(tensor)\n",
    "print(\"\\nOriginal Tensor Shape:\",tensor.shape)\n",
    "\n",
    "print(\"\\n----------------------SQUEEZE------------------------\")\n",
    "\n",
    "print(\"Reshaped Tensor using squeeze():\")\n",
    "reshaped_tensor = tensor.squeeze()  # Remove dimensions with size 1\n",
    "print(reshaped_tensor)\n",
    "print(\"\\nReshaped Tensor Shape:\",reshaped_tensor.shape)\n",
    "\n",
    "print(\"\\n----------------------UNSQUEEZE----------------------\")\n",
    "\n",
    "print(\"Recovered Tensor using unsqueeze():\")\n",
    "recovered_tensor = reshaped_tensor.unsqueeze(dim = 1)\n",
    "print(recovered_tensor)\n",
    "print(\"\\nRecovered Tensor Shape:\",recovered_tensor.shape)"
   ]
  },
  {
   "attachments": {},
   "cell_type": "markdown",
   "id": "3a5da267",
   "metadata": {},
   "source": [
    "### Exercise 6: Reshape a tensor using [reshape()](https://pytorch.org/docs/stable/generated/torch.reshape.html)"
   ]
  },
  {
   "cell_type": "code",
   "execution_count": 12,
   "id": "2ea0246f",
   "metadata": {},
   "outputs": [
    {
     "name": "stdout",
     "output_type": "stream",
     "text": [
      "Original Tensor Shape: torch.Size([2, 3, 4, 5])\n",
      "Reshaped Tensor Shape: torch.Size([2, 3, 20])\n"
     ]
    }
   ],
   "source": [
    "# Create the tensor with dimensions (2, 3, 4, 5)\n",
    "tensor = torch.arange(120).reshape(2, 3, 4, 5)\n",
    "print(\"Original Tensor Shape:\", tensor.shape)\n",
    "\n",
    "# Reshape the tensor to have one less dimension (using -1) and print the new dimensions\n",
    "# Fill"
   ]
  },
  {
   "attachments": {},
   "cell_type": "markdown",
   "id": "103d7a0e",
   "metadata": {},
   "source": [
    "## 5. Moving tensors from CPU to GPU and vice versa"
   ]
  },
  {
   "attachments": {},
   "cell_type": "markdown",
   "id": "0e09edd1",
   "metadata": {},
   "source": [
    "**Be careful!**: When you call tensor.to(device) to transfer a tensor to a specific device (e.g., GPU), it **doesn't modify the original tensor in-place**. Instead, it returns a **new tensor** that resides on the specified device. However, if you directly print the tensor after calling tensor.to(device), it will still display the tensor's original location, which is the CPU."
   ]
  },
  {
   "cell_type": "code",
   "execution_count": 13,
   "id": "ed6639e5",
   "metadata": {},
   "outputs": [
    {
     "name": "stdout",
     "output_type": "stream",
     "text": [
      "Tensor on CPU:tensor([1, 2, 3]) and device: cpu\n",
      "Tensor on CPU:tensor([1, 2, 3]) and device: cpu\n",
      "Tensor on GPU:tensor([1, 2, 3], device='cuda:0') and device: cuda:0\n",
      "Tensor on GPU:tensor([1, 2, 3], device='cuda:0') and device: cuda:0\n"
     ]
    }
   ],
   "source": [
    "device = \"cuda\" if torch.cuda.is_available() else \"cpu\"\n",
    "\n",
    "# Create a tensor (in cpu)\n",
    "tensor = torch.tensor([1, 2, 3])\n",
    "print(f\"Tensor on CPU:{tensor} and device: {tensor.device}\")\n",
    "\n",
    "# Move tensor to cuda if available? -> WRONG\n",
    "tensor.to(device)\n",
    "print(f\"Tensor on CPU:{tensor} and device: {tensor.device}\")\n",
    "\n",
    "# Move tensor to cuda if available-> RIGHT\n",
    "tensor_gpu = tensor.to(device)\n",
    "print(f\"Tensor on GPU:{tensor_gpu} and device: {tensor_gpu.device}\")\n",
    "\n",
    "# Create a tensor in GPU directly\n",
    "tensor = torch.tensor([1, 2, 3], device = device )\n",
    "print(f\"Tensor on GPU:{tensor} and device: {tensor.device}\")"
   ]
  },
  {
   "attachments": {},
   "cell_type": "markdown",
   "id": "94459b5c",
   "metadata": {},
   "source": [
    "### Exercise 7: GPU/CPU"
   ]
  },
  {
   "attachments": {},
   "cell_type": "markdown",
   "id": "668210b9",
   "metadata": {},
   "source": [
    "Imagine that cuda is available: **torch.cuda.is_available() = True** (Don't need to check this attribute)"
   ]
  },
  {
   "cell_type": "code",
   "execution_count": 14,
   "id": "f38b803c",
   "metadata": {},
   "outputs": [
    {
     "name": "stdout",
     "output_type": "stream",
     "text": [
      "Device of x (after moving to GPU): cuda:0\n",
      "Device of x (after moving back to CPU): cpu\n"
     ]
    }
   ],
   "source": [
    "# Step 1: Create a tensor on the CPU\n",
    "\n",
    "\n",
    "# Step 2: Move the tensor to the GPU\n",
    "\n",
    "\n",
    "# Step 3: Print the device attribute \n",
    "\n",
    "\n",
    "# Step 4: Move the tensor back to the CPU\n",
    "\n",
    "\n",
    "# Step 5: Print the device attribute \n"
   ]
  },
  {
   "cell_type": "code",
   "execution_count": null,
   "id": "0fbf3e62",
   "metadata": {},
   "outputs": [],
   "source": []
  }
 ],
 "metadata": {
  "kernelspec": {
   "display_name": "Python 3 (ipykernel)",
   "language": "python",
   "name": "python3"
  },
  "language_info": {
   "codemirror_mode": {
    "name": "ipython",
    "version": 3
   },
   "file_extension": ".py",
   "mimetype": "text/x-python",
   "name": "python",
   "nbconvert_exporter": "python",
   "pygments_lexer": "ipython3",
   "version": "3.8.12"
  }
 },
 "nbformat": 4,
 "nbformat_minor": 5
}
