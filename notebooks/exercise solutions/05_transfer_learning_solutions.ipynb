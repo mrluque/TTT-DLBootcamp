{
 "cells": [
  {
   "cell_type": "markdown",
   "id": "2a329790",
   "metadata": {},
   "source": [
    "# Transfer Learning: answers"
   ]
  },
  {
   "cell_type": "markdown",
   "id": "979fb0c0",
   "metadata": {},
   "source": [
    "## Step 0: Getting setup"
   ]
  },
  {
   "cell_type": "markdown",
   "id": "d00af19e",
   "metadata": {},
   "source": [
    "### Imports"
   ]
  },
  {
   "cell_type": "code",
   "execution_count": 1,
   "id": "ec944bd5",
   "metadata": {},
   "outputs": [],
   "source": [
    "# PyTorch framework\n",
    "import torch\n",
    "import torch.nn as nn\n",
    "from torchvision import datasets\n",
    "import torchvision\n",
    "from torch.utils.data import Dataset\n",
    "from torch.utils.data import DataLoader\n",
    "from torchvision import transforms\n",
    "\n",
    "# Model evaluation\n",
    "from sklearn.model_selection import train_test_split\n",
    "import seaborn as sns\n",
    "import matplotlib.pyplot as plt\n",
    "from sklearn.metrics import classification_report, confusion_matrix\n",
    "import matplotlib.pyplot as plt\n",
    "\n",
    "# Basic libraries\n",
    "from pathlib import Path\n",
    "from PIL import Image\n",
    "from typing import Tuple, Dict, List\n",
    "import numpy as np\n",
    "import random\n",
    "import pathlib\n",
    "import os\n",
    "import time\n",
    "import copy"
   ]
  },
  {
   "cell_type": "markdown",
   "id": "dee826e9",
   "metadata": {},
   "source": [
    "### Set device"
   ]
  },
  {
   "cell_type": "code",
   "execution_count": 2,
   "id": "5346d42e",
   "metadata": {},
   "outputs": [],
   "source": [
    "DEVICE = \"cuda\" if torch.cuda.is_available() else \"cpu\""
   ]
  },
  {
   "cell_type": "markdown",
   "id": "ae0e802a",
   "metadata": {},
   "source": [
    "## Exercise 1: Prepare the train_dataset "
   ]
  },
  {
   "cell_type": "code",
   "execution_count": 3,
   "id": "af762b95",
   "metadata": {},
   "outputs": [],
   "source": [
    "# Setup train path\n",
    "image_path = Path(\"../datasets/Transport_Dataset\")\n",
    "train_dir = image_path / \"train\""
   ]
  },
  {
   "cell_type": "code",
   "execution_count": 4,
   "id": "c3e16a6f",
   "metadata": {},
   "outputs": [],
   "source": [
    "# Define the data transform \n",
    "train_transform = transforms.Compose([\n",
    "    transforms.Resize((224, 224)), \n",
    "    transforms.RandomHorizontalFlip(p = 0.5),\n",
    "    transforms.RandomAutocontrast(p = 0.2),\n",
    "    transforms.ToTensor(), \n",
    "    transforms.Normalize(mean = [0.485, 0.456, 0.406], \n",
    "                         std = [0.229, 0.224, 0.225]) \n",
    " \n",
    "])\n",
    "\n",
    "# Use ImageFolder to create the train_dataset\n",
    "train_data = datasets.ImageFolder(\n",
    "    root = train_dir,  # Target folder of images\n",
    "    transform = train_transform  # Transforms to perform on train data (images)\n",
    ")\n",
    "\n",
    "# Create the train_dataloader\n",
    "train_dataloader = DataLoader(dataset = train_data, \n",
    "                              batch_size = 8, # Samples per batch\n",
    "                              shuffle = True) # Shuffle training data"
   ]
  },
  {
   "cell_type": "code",
   "execution_count": 5,
   "id": "7b90c44d",
   "metadata": {},
   "outputs": [
    {
     "name": "stdout",
     "output_type": "stream",
     "text": [
      "Class names (list): ['airplanes', 'cars', 'ship']\n",
      "Class names (dictionary): {'airplanes': 0, 'cars': 1, 'ship': 2}\n",
      "Length of train_data: 3000\n"
     ]
    }
   ],
   "source": [
    "# Get class names as a list\n",
    "class_names = train_data.classes\n",
    "print(\"Class names (list):\", class_names)\n",
    "\n",
    "# Get class names as a dictionary\n",
    "class_dict = train_data.class_to_idx\n",
    "print(\"Class names (dictionary):\", class_dict)\n",
    "\n",
    "# Check the lengths\n",
    "print(\"Length of train_data:\", len(train_data))"
   ]
  },
  {
   "cell_type": "markdown",
   "id": "ed17c100",
   "metadata": {},
   "source": [
    "# 2. Getting a pretrained model"
   ]
  },
  {
   "cell_type": "markdown",
   "id": "c08bb9a1",
   "metadata": {},
   "source": [
    "### Freeze model and change the output layer to suit our dataset"
   ]
  },
  {
   "cell_type": "code",
   "execution_count": 6,
   "id": "f77dfe99",
   "metadata": {},
   "outputs": [],
   "source": [
    "# Load a ResNet-18 model with weights pretrained on the ImageNet dataset\n",
    "model = torchvision.models.resnet18(weights = 'IMAGENET1K_V1')\n",
    "\n",
    "# Freeze the parameters of the model\n",
    "for param in model.parameters():\n",
    "    param.requires_grad = False\n",
    "    \n",
    "# Replace the FC layer with a classifier that has 3 classes\n",
    "num_ftrs = model.fc.in_features\n",
    "model.fc = nn.Linear(num_ftrs, 3)\n",
    "\n",
    "# Move the model to the specified device (GPU/CPU) for computation\n",
    "model = model.to(DEVICE)"
   ]
  },
  {
   "cell_type": "markdown",
   "id": "83ec2d3a",
   "metadata": {},
   "source": [
    "### Get a summary of our model with torchinfo.summary()"
   ]
  },
  {
   "cell_type": "markdown",
   "id": "419a69fa",
   "metadata": {},
   "source": [
    "To learn more about our model, let's use `torchinfo`'s `summary()` [method](https://github.com/TylerYep/torchinfo#documentation).\n",
    "\n",
    "To do so, we'll pass in:\n",
    " * `model` - the model we'd like to get a summary of.\n",
    " * `input_size` - the shape of the data we'd like to pass to our model. In our case the input size is `(batch_size, 3, 224, 224)`\n",
    " * `col_names` - the various information columns we'd like to see about our model. \n",
    " * `col_width` - how wide the columns should be for the summary.\n",
    " * `row_settings` - what features to show in a row."
   ]
  },
  {
   "cell_type": "code",
   "execution_count": 7,
   "id": "4fba196b",
   "metadata": {},
   "outputs": [],
   "source": [
    "try:\n",
    "    from torchinfo import summary\n",
    "except:\n",
    "    print(\"[INFO] Couldn't find torchinfo... installing it.\")\n",
    "    !pip install -q torchinfo\n",
    "    from torchinfo import summary"
   ]
  },
  {
   "cell_type": "code",
   "execution_count": 8,
   "id": "a9519f6a",
   "metadata": {},
   "outputs": [
    {
     "data": {
      "text/plain": [
       "====================================================================================================\n",
       "Layer (type (var_name))                  Input Shape     Output Shape    Param #         Trainable\n",
       "====================================================================================================\n",
       "ResNet (ResNet)                          [8, 3, 224, 224] [8, 3]          --              Partial\n",
       "├─Conv2d (conv1)                         [8, 3, 224, 224] [8, 64, 112, 112] (9,408)         False\n",
       "├─BatchNorm2d (bn1)                      [8, 64, 112, 112] [8, 64, 112, 112] (128)           False\n",
       "├─ReLU (relu)                            [8, 64, 112, 112] [8, 64, 112, 112] --              --\n",
       "├─MaxPool2d (maxpool)                    [8, 64, 112, 112] [8, 64, 56, 56] --              --\n",
       "├─Sequential (layer1)                    [8, 64, 56, 56] [8, 64, 56, 56] --              False\n",
       "│    └─BasicBlock (0)                    [8, 64, 56, 56] [8, 64, 56, 56] --              False\n",
       "│    │    └─Conv2d (conv1)               [8, 64, 56, 56] [8, 64, 56, 56] (36,864)        False\n",
       "│    │    └─BatchNorm2d (bn1)            [8, 64, 56, 56] [8, 64, 56, 56] (128)           False\n",
       "│    │    └─ReLU (relu)                  [8, 64, 56, 56] [8, 64, 56, 56] --              --\n",
       "│    │    └─Conv2d (conv2)               [8, 64, 56, 56] [8, 64, 56, 56] (36,864)        False\n",
       "│    │    └─BatchNorm2d (bn2)            [8, 64, 56, 56] [8, 64, 56, 56] (128)           False\n",
       "│    │    └─ReLU (relu)                  [8, 64, 56, 56] [8, 64, 56, 56] --              --\n",
       "│    └─BasicBlock (1)                    [8, 64, 56, 56] [8, 64, 56, 56] --              False\n",
       "│    │    └─Conv2d (conv1)               [8, 64, 56, 56] [8, 64, 56, 56] (36,864)        False\n",
       "│    │    └─BatchNorm2d (bn1)            [8, 64, 56, 56] [8, 64, 56, 56] (128)           False\n",
       "│    │    └─ReLU (relu)                  [8, 64, 56, 56] [8, 64, 56, 56] --              --\n",
       "│    │    └─Conv2d (conv2)               [8, 64, 56, 56] [8, 64, 56, 56] (36,864)        False\n",
       "│    │    └─BatchNorm2d (bn2)            [8, 64, 56, 56] [8, 64, 56, 56] (128)           False\n",
       "│    │    └─ReLU (relu)                  [8, 64, 56, 56] [8, 64, 56, 56] --              --\n",
       "├─Sequential (layer2)                    [8, 64, 56, 56] [8, 128, 28, 28] --              False\n",
       "│    └─BasicBlock (0)                    [8, 64, 56, 56] [8, 128, 28, 28] --              False\n",
       "│    │    └─Conv2d (conv1)               [8, 64, 56, 56] [8, 128, 28, 28] (73,728)        False\n",
       "│    │    └─BatchNorm2d (bn1)            [8, 128, 28, 28] [8, 128, 28, 28] (256)           False\n",
       "│    │    └─ReLU (relu)                  [8, 128, 28, 28] [8, 128, 28, 28] --              --\n",
       "│    │    └─Conv2d (conv2)               [8, 128, 28, 28] [8, 128, 28, 28] (147,456)       False\n",
       "│    │    └─BatchNorm2d (bn2)            [8, 128, 28, 28] [8, 128, 28, 28] (256)           False\n",
       "│    │    └─Sequential (downsample)      [8, 64, 56, 56] [8, 128, 28, 28] (8,448)         False\n",
       "│    │    └─ReLU (relu)                  [8, 128, 28, 28] [8, 128, 28, 28] --              --\n",
       "│    └─BasicBlock (1)                    [8, 128, 28, 28] [8, 128, 28, 28] --              False\n",
       "│    │    └─Conv2d (conv1)               [8, 128, 28, 28] [8, 128, 28, 28] (147,456)       False\n",
       "│    │    └─BatchNorm2d (bn1)            [8, 128, 28, 28] [8, 128, 28, 28] (256)           False\n",
       "│    │    └─ReLU (relu)                  [8, 128, 28, 28] [8, 128, 28, 28] --              --\n",
       "│    │    └─Conv2d (conv2)               [8, 128, 28, 28] [8, 128, 28, 28] (147,456)       False\n",
       "│    │    └─BatchNorm2d (bn2)            [8, 128, 28, 28] [8, 128, 28, 28] (256)           False\n",
       "│    │    └─ReLU (relu)                  [8, 128, 28, 28] [8, 128, 28, 28] --              --\n",
       "├─Sequential (layer3)                    [8, 128, 28, 28] [8, 256, 14, 14] --              False\n",
       "│    └─BasicBlock (0)                    [8, 128, 28, 28] [8, 256, 14, 14] --              False\n",
       "│    │    └─Conv2d (conv1)               [8, 128, 28, 28] [8, 256, 14, 14] (294,912)       False\n",
       "│    │    └─BatchNorm2d (bn1)            [8, 256, 14, 14] [8, 256, 14, 14] (512)           False\n",
       "│    │    └─ReLU (relu)                  [8, 256, 14, 14] [8, 256, 14, 14] --              --\n",
       "│    │    └─Conv2d (conv2)               [8, 256, 14, 14] [8, 256, 14, 14] (589,824)       False\n",
       "│    │    └─BatchNorm2d (bn2)            [8, 256, 14, 14] [8, 256, 14, 14] (512)           False\n",
       "│    │    └─Sequential (downsample)      [8, 128, 28, 28] [8, 256, 14, 14] (33,280)        False\n",
       "│    │    └─ReLU (relu)                  [8, 256, 14, 14] [8, 256, 14, 14] --              --\n",
       "│    └─BasicBlock (1)                    [8, 256, 14, 14] [8, 256, 14, 14] --              False\n",
       "│    │    └─Conv2d (conv1)               [8, 256, 14, 14] [8, 256, 14, 14] (589,824)       False\n",
       "│    │    └─BatchNorm2d (bn1)            [8, 256, 14, 14] [8, 256, 14, 14] (512)           False\n",
       "│    │    └─ReLU (relu)                  [8, 256, 14, 14] [8, 256, 14, 14] --              --\n",
       "│    │    └─Conv2d (conv2)               [8, 256, 14, 14] [8, 256, 14, 14] (589,824)       False\n",
       "│    │    └─BatchNorm2d (bn2)            [8, 256, 14, 14] [8, 256, 14, 14] (512)           False\n",
       "│    │    └─ReLU (relu)                  [8, 256, 14, 14] [8, 256, 14, 14] --              --\n",
       "├─Sequential (layer4)                    [8, 256, 14, 14] [8, 512, 7, 7]  --              False\n",
       "│    └─BasicBlock (0)                    [8, 256, 14, 14] [8, 512, 7, 7]  --              False\n",
       "│    │    └─Conv2d (conv1)               [8, 256, 14, 14] [8, 512, 7, 7]  (1,179,648)     False\n",
       "│    │    └─BatchNorm2d (bn1)            [8, 512, 7, 7]  [8, 512, 7, 7]  (1,024)         False\n",
       "│    │    └─ReLU (relu)                  [8, 512, 7, 7]  [8, 512, 7, 7]  --              --\n",
       "│    │    └─Conv2d (conv2)               [8, 512, 7, 7]  [8, 512, 7, 7]  (2,359,296)     False\n",
       "│    │    └─BatchNorm2d (bn2)            [8, 512, 7, 7]  [8, 512, 7, 7]  (1,024)         False\n",
       "│    │    └─Sequential (downsample)      [8, 256, 14, 14] [8, 512, 7, 7]  (132,096)       False\n",
       "│    │    └─ReLU (relu)                  [8, 512, 7, 7]  [8, 512, 7, 7]  --              --\n",
       "│    └─BasicBlock (1)                    [8, 512, 7, 7]  [8, 512, 7, 7]  --              False\n",
       "│    │    └─Conv2d (conv1)               [8, 512, 7, 7]  [8, 512, 7, 7]  (2,359,296)     False\n",
       "│    │    └─BatchNorm2d (bn1)            [8, 512, 7, 7]  [8, 512, 7, 7]  (1,024)         False\n",
       "│    │    └─ReLU (relu)                  [8, 512, 7, 7]  [8, 512, 7, 7]  --              --\n",
       "│    │    └─Conv2d (conv2)               [8, 512, 7, 7]  [8, 512, 7, 7]  (2,359,296)     False\n",
       "│    │    └─BatchNorm2d (bn2)            [8, 512, 7, 7]  [8, 512, 7, 7]  (1,024)         False\n",
       "│    │    └─ReLU (relu)                  [8, 512, 7, 7]  [8, 512, 7, 7]  --              --\n",
       "├─AdaptiveAvgPool2d (avgpool)            [8, 512, 7, 7]  [8, 512, 1, 1]  --              --\n",
       "├─Linear (fc)                            [8, 512]        [8, 3]          1,539           True\n",
       "====================================================================================================\n",
       "Total params: 11,178,051\n",
       "Trainable params: 1,539\n",
       "Non-trainable params: 11,176,512\n",
       "Total mult-adds (G): 14.51\n",
       "====================================================================================================\n",
       "Input size (MB): 4.82\n",
       "Forward/backward pass size (MB): 317.92\n",
       "Params size (MB): 44.71\n",
       "Estimated Total Size (MB): 367.44\n",
       "===================================================================================================="
      ]
     },
     "execution_count": 8,
     "metadata": {},
     "output_type": "execute_result"
    }
   ],
   "source": [
    "summary(model = model, \n",
    "        input_size = (8, 3, 224, 224), \n",
    "        col_names= [\"input_size\", \"output_size\", \"num_params\", \"trainable\"],\n",
    "        col_width = 15,\n",
    "        row_settings = [\"var_names\"]\n",
    ") "
   ]
  },
  {
   "cell_type": "markdown",
   "id": "869c6e11",
   "metadata": {},
   "source": [
    "> We observed that we trained only a small percentage (1,539) of the total number of network parameters (11,178,051) in the model. This enables faster training compared to retraining the entire network."
   ]
  },
  {
   "cell_type": "markdown",
   "id": "0129fa05",
   "metadata": {},
   "source": [
    "# 3. Fitting the model to data"
   ]
  },
  {
   "cell_type": "markdown",
   "id": "ad9b0696",
   "metadata": {},
   "source": [
    "## 3.1 Build a training loop"
   ]
  },
  {
   "cell_type": "code",
   "execution_count": 9,
   "id": "4e7f4b0b",
   "metadata": {},
   "outputs": [],
   "source": [
    "def train(model, criterion, optimizer, num_epochs = 20):\n",
    "    size = len(train_dataloader.dataset)\n",
    "    model.train()\n",
    "    \n",
    "    for epoch in range(num_epochs):\n",
    "        print(f'Epoch {epoch}/{num_epochs - 1}')\n",
    "        print('-' * 10)\n",
    "        \n",
    "        for batch, (inputs, labels) in enumerate(train_dataloader):\n",
    "            \n",
    "            # Send data to GPU if available\n",
    "            inputs, labels = inputs.to(DEVICE), labels.to(DEVICE)\n",
    "\n",
    "            # 1. Forward pass\n",
    "            outputs = model(inputs)\n",
    "            \n",
    "            # 2. Calculate loss (per batch)\n",
    "            loss = criterion(outputs, labels)\n",
    "\n",
    "            # 3. Backpropagation\n",
    "            loss.backward()\n",
    "            \n",
    "            # 4. Optimizer step\n",
    "            optimizer.step()\n",
    "            \n",
    "            # 5. Optimizer zero grad\n",
    "            optimizer.zero_grad()\n",
    "\n",
    "            # Print the loss per batch \n",
    "            if batch % 100 == 0:\n",
    "                loss, current = loss.item(), (batch + 1) * len(inputs)\n",
    "                print(f\"loss: {loss:>7f}  [{current:>5d}/{size:>5d}]\")"
   ]
  },
  {
   "cell_type": "markdown",
   "id": "0c4a60b5",
   "metadata": {},
   "source": [
    "### 3.2 Loss function and optimizer"
   ]
  },
  {
   "cell_type": "code",
   "execution_count": 10,
   "id": "e32dcd41",
   "metadata": {},
   "outputs": [],
   "source": [
    "loss = nn.CrossEntropyLoss()\n",
    "optimizer = torch.optim.SGD(model.parameters(), lr = 1e-3)"
   ]
  },
  {
   "cell_type": "markdown",
   "id": "00cd8101",
   "metadata": {},
   "source": [
    "### 3.3 Train and save the model"
   ]
  },
  {
   "cell_type": "code",
   "execution_count": 12,
   "id": "3922bee7",
   "metadata": {},
   "outputs": [
    {
     "name": "stdout",
     "output_type": "stream",
     "text": [
      "Epoch 0/4\n",
      "----------\n",
      "loss: 1.356185  [    8/ 3000]\n",
      "loss: 0.650238  [  808/ 3000]\n",
      "loss: 0.274277  [ 1608/ 3000]\n",
      "loss: 0.194240  [ 2408/ 3000]\n",
      "Epoch 1/4\n",
      "----------\n",
      "loss: 0.191331  [    8/ 3000]\n",
      "loss: 0.323714  [  808/ 3000]\n",
      "loss: 0.295586  [ 1608/ 3000]\n",
      "loss: 0.048778  [ 2408/ 3000]\n",
      "Epoch 2/4\n",
      "----------\n",
      "loss: 0.251818  [    8/ 3000]\n",
      "loss: 0.164212  [  808/ 3000]\n",
      "loss: 0.121152  [ 1608/ 3000]\n",
      "loss: 0.124272  [ 2408/ 3000]\n",
      "Epoch 3/4\n",
      "----------\n",
      "loss: 0.140745  [    8/ 3000]\n",
      "loss: 0.026525  [  808/ 3000]\n",
      "loss: 0.545546  [ 1608/ 3000]\n",
      "loss: 0.018695  [ 2408/ 3000]\n",
      "Epoch 4/4\n",
      "----------\n",
      "loss: 0.130328  [    8/ 3000]\n",
      "loss: 0.045815  [  808/ 3000]\n",
      "loss: 0.083775  [ 1608/ 3000]\n",
      "loss: 0.059143  [ 2408/ 3000]\n"
     ]
    }
   ],
   "source": [
    "train(model, loss, optimizer, 5)"
   ]
  },
  {
   "cell_type": "code",
   "execution_count": 13,
   "id": "88b5161e",
   "metadata": {},
   "outputs": [],
   "source": [
    "# Save the model\n",
    "MODEL_PATH = \"../data/models/resnet18_TL_TransportDataset.pth\"\n",
    "torch.save(model.state_dict(), MODEL_PATH)"
   ]
  },
  {
   "cell_type": "markdown",
   "id": "72d2903b",
   "metadata": {},
   "source": [
    "# 4. Assessing the model performance"
   ]
  },
  {
   "cell_type": "markdown",
   "id": "76fbe815",
   "metadata": {},
   "source": [
    "## 4.1 Prepare the test dataset"
   ]
  },
  {
   "cell_type": "code",
   "execution_count": 14,
   "id": "a7123004",
   "metadata": {},
   "outputs": [
    {
     "name": "stdout",
     "output_type": "stream",
     "text": [
      "Class names (list): ['airplanes', 'cars', 'ships']\n"
     ]
    }
   ],
   "source": [
    "# Setup testing path\n",
    "image_path = Path(\"../datasets/Transport_Dataset\")\n",
    "test_dir = image_path / \"test\"\n",
    "\n",
    "# Define the data transform \n",
    "test_transform = transforms.Compose([\n",
    "   transforms.Resize((224, 224)), \n",
    "    transforms.ToTensor(), \n",
    "    transforms.Normalize(mean = [0.485, 0.456, 0.406], \n",
    "                         std = [0.229, 0.224, 0.225]) \n",
    "])\n",
    "\n",
    "# Use ImageFolder to create dataset\n",
    "test_data = datasets.ImageFolder(\n",
    "    root = test_dir,\n",
    "    transform = test_transform  # Transforms to perform on test data (images)\n",
    ")\n",
    "\n",
    "# Create the dataloader\n",
    "test_dataloader = DataLoader(dataset = test_data, \n",
    "                             batch_size = 8,  \n",
    "                             shuffle = True) \n",
    "\n",
    "# Get class names as a list\n",
    "class_names = test_data.classes\n",
    "print(\"Class names (list):\", class_names)"
   ]
  },
  {
   "cell_type": "markdown",
   "id": "2efd1564",
   "metadata": {},
   "source": [
    "## 4.2 Load the trained model"
   ]
  },
  {
   "cell_type": "markdown",
   "id": "9ce8d032",
   "metadata": {},
   "source": [
    "In case you haven't completed the previous steps, you can utilize the model located in the following directory:\n",
    "\n",
    "```\n",
    "data/ \n",
    "    models/ \n",
    "        resnet18_TL_TransportDataset.pth\n",
    "```"
   ]
  },
  {
   "cell_type": "code",
   "execution_count": 15,
   "id": "4796aa52",
   "metadata": {},
   "outputs": [
    {
     "data": {
      "text/plain": [
       "<All keys matched successfully>"
      ]
     },
     "execution_count": 15,
     "metadata": {},
     "output_type": "execute_result"
    }
   ],
   "source": [
    "# Load a ResNet-18 model architecture\n",
    "model = torchvision.models.resnet18()\n",
    "\n",
    "# Replace the FC layer with a classifier that has 4 classes\n",
    "num_ftrs = model.fc.in_features\n",
    "model.fc = nn.Linear(num_ftrs, 3)\n",
    "\n",
    "# Move the model to the specified device\n",
    "model.to(DEVICE)\n",
    "\n",
    "# Load trained weights\n",
    "MODEL_PATH = '../data/models/resnet18_TL_TransportDataset.pth'\n",
    "model.load_state_dict(torch.load(MODEL_PATH, map_location = DEVICE))"
   ]
  },
  {
   "cell_type": "markdown",
   "id": "868c60e7",
   "metadata": {},
   "source": [
    "## 4.3 Build a testing loop"
   ]
  },
  {
   "cell_type": "code",
   "execution_count": 16,
   "id": "a91ee364",
   "metadata": {},
   "outputs": [],
   "source": [
    "# Set the model to evaluation mode\n",
    "model.eval()\n",
    "\n",
    "# Lists to store true labels and predicted labels\n",
    "y_true = []\n",
    "y_pred = []\n",
    "\n",
    "# Disable gradient computation\n",
    "with torch.no_grad():\n",
    "    for test_data in test_dataloader: # Iterate over the test dataloader to get test images and labels\n",
    "        test_images, test_labels = (test_data[0].to(DEVICE), \n",
    "                                    test_data[1].to(DEVICE))\n",
    "        # Forward pass through the model to get predictions\n",
    "        output = model(test_images)\n",
    "        \n",
    "        # Compute the predicted labels by taking the argmax of the softmax output\n",
    "        pred_label = torch.softmax(output, dim = 1).argmax(dim = 1)\n",
    "\n",
    "        # Append the true labels and predicted labels to their respective lists\n",
    "        y_true.append(test_labels.cpu())\n",
    "        y_pred.append(pred_label.cpu())\n",
    "\n",
    "# Convert the lists of true labels and predicted labels to NumPy arrays\n",
    "y_true = torch.cat(y_true).numpy()\n",
    "y_pred = torch.cat(y_pred).numpy()"
   ]
  },
  {
   "cell_type": "markdown",
   "id": "8f33da0a",
   "metadata": {},
   "source": [
    "## 4.4 Compute metrics"
   ]
  },
  {
   "cell_type": "markdown",
   "id": "7a87f292",
   "metadata": {},
   "source": [
    "### Classification report"
   ]
  },
  {
   "cell_type": "code",
   "execution_count": 17,
   "id": "7968b353",
   "metadata": {},
   "outputs": [
    {
     "name": "stdout",
     "output_type": "stream",
     "text": [
      "              precision    recall  f1-score   support\n",
      "\n",
      "   Airplanes     1.0000    0.9894    0.9947       189\n",
      "        Cars     0.9948    0.9948    0.9948       193\n",
      "       Ships     0.9901    1.0000    0.9950       200\n",
      "\n",
      "    accuracy                         0.9948       582\n",
      "   macro avg     0.9950    0.9947    0.9948       582\n",
      "weighted avg     0.9949    0.9948    0.9948       582\n",
      "\n"
     ]
    }
   ],
   "source": [
    "# Generate the classification report and print it\n",
    "report = classification_report(y_true, \n",
    "                               y_pred, \n",
    "                               target_names = [\"Airplanes\",\"Cars\", \"Ships\"], \n",
    "                               digits = 4)\n",
    "print(report)"
   ]
  },
  {
   "cell_type": "markdown",
   "id": "501d3278",
   "metadata": {},
   "source": [
    "### Confusion matrix"
   ]
  },
  {
   "cell_type": "code",
   "execution_count": 18,
   "id": "b6afbdd7",
   "metadata": {},
   "outputs": [
    {
     "data": {
      "image/png": "[encoded data removed]",
      "text/plain": [
       "<Figure size 640x480 with 2 Axes>"
      ]
     },
     "metadata": {},
     "output_type": "display_data"
    }
   ],
   "source": [
    "# Generate the confusion matrix\n",
    "cmat = confusion_matrix(y_true, y_pred, normalize = 'true')\n",
    "\n",
    "# Create a heatmap for the confusion matrix visualization\n",
    "ax = sns.heatmap(cmat, annot = True, cmap = 'Blues')\n",
    "\n",
    "# Set labels for x-axis and y-axis\n",
    "ax.set_xlabel('Predicted Values')\n",
    "ax.set_ylabel('Actual Values')\n",
    "\n",
    "# Set the labels \n",
    "ax.xaxis.set_ticklabels([\"Airplanes\",\"Cars\", \"Ships\"])\n",
    "ax.yaxis.set_ticklabels([\"Airplanes\",\"Cars\", \"Ships\"])\n",
    "\n",
    "# Display the visualization of the Confusion Matrix\n",
    "plt.show()"
   ]
  },
  {
   "cell_type": "markdown",
   "id": "1eba7fe7",
   "metadata": {},
   "source": [
    "The model achieves nearly perfect performance on the evaluation data. Moreover, we observed that in this scenario, using the ResNet-18 network with transfer learning produces superior results compared to training a simple model from scratch when using the same data preprocessing and hyperparameters during training."
   ]
  }
 ],
 "metadata": {
  "kernelspec": {
   "display_name": "Python 3 (ipykernel)",
   "language": "python",
   "name": "python3"
  },
  "language_info": {
   "codemirror_mode": {
    "name": "ipython",
    "version": 3
   },
   "file_extension": ".py",
   "mimetype": "text/x-python",
   "name": "python",
   "nbconvert_exporter": "python",
   "pygments_lexer": "ipython3",
   "version": "3.10.10"
  }
 },
 "nbformat": 4,
 "nbformat_minor": 5
}
